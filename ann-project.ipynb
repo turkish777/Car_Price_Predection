{
 "cells": [
  {
   "cell_type": "code",
   "execution_count": 1,
   "id": "b383bf65",
   "metadata": {
    "_cell_guid": "b1076dfc-b9ad-4769-8c92-a6c4dae69d19",
    "_uuid": "8f2839f25d086af736a60e9eeb907d3b93b6e0e5",
    "execution": {
     "iopub.execute_input": "2025-05-04T07:44:07.326713Z",
     "iopub.status.busy": "2025-05-04T07:44:07.326523Z",
     "iopub.status.idle": "2025-05-04T07:44:08.745916Z",
     "shell.execute_reply": "2025-05-04T07:44:08.744789Z"
    },
    "papermill": {
     "duration": 1.425836,
     "end_time": "2025-05-04T07:44:08.747559",
     "exception": false,
     "start_time": "2025-05-04T07:44:07.321723",
     "status": "completed"
    },
    "tags": []
   },
   "outputs": [
    {
     "name": "stdout",
     "output_type": "stream",
     "text": [
      "/kaggle/input/churn-modelling/Churn_Modelling.csv\n"
     ]
    }
   ],
   "source": [
    "# This Python 3 environment comes with many helpful analytics libraries installed\n",
    "# It is defined by the kaggle/python Docker image: https://github.com/kaggle/docker-python\n",
    "# For example, here's several helpful packages to load\n",
    "\n",
    "import numpy as np # linear algebra\n",
    "import pandas as pd # data processing, CSV file I/O (e.g. pd.read_csv)\n",
    "\n",
    "# Input data files are available in the read-only \"../input/\" directory\n",
    "# For example, running this (by clicking run or pressing Shift+Enter) will list all files under the input directory\n",
    "\n",
    "import os\n",
    "for dirname, _, filenames in os.walk('/kaggle/input'):\n",
    "    for filename in filenames:\n",
    "        print(os.path.join(dirname, filename))\n",
    "\n",
    "# You can write up to 20GB to the current directory (/kaggle/working/) that gets preserved as output when you create a version using \"Save & Run All\" \n",
    "# You can also write temporary files to /kaggle/temp/, but they won't be saved outside of the current session"
   ]
  },
  {
   "cell_type": "code",
   "execution_count": 2,
   "id": "d0d7de83",
   "metadata": {
    "execution": {
     "iopub.execute_input": "2025-05-04T07:44:08.756544Z",
     "iopub.status.busy": "2025-05-04T07:44:08.756233Z",
     "iopub.status.idle": "2025-05-04T07:44:08.760852Z",
     "shell.execute_reply": "2025-05-04T07:44:08.759885Z"
    },
    "papermill": {
     "duration": 0.010242,
     "end_time": "2025-05-04T07:44:08.762212",
     "exception": false,
     "start_time": "2025-05-04T07:44:08.751970",
     "status": "completed"
    },
    "tags": []
   },
   "outputs": [],
   "source": [
    "import pandas as pd \n",
    "import numpy as np"
   ]
  },
  {
   "cell_type": "code",
   "execution_count": 3,
   "id": "0d10d8d6",
   "metadata": {
    "execution": {
     "iopub.execute_input": "2025-05-04T07:44:08.771274Z",
     "iopub.status.busy": "2025-05-04T07:44:08.771035Z",
     "iopub.status.idle": "2025-05-04T07:44:08.827343Z",
     "shell.execute_reply": "2025-05-04T07:44:08.826806Z"
    },
    "papermill": {
     "duration": 0.061313,
     "end_time": "2025-05-04T07:44:08.828412",
     "exception": false,
     "start_time": "2025-05-04T07:44:08.767099",
     "status": "completed"
    },
    "tags": []
   },
   "outputs": [
    {
     "data": {
      "text/html": [
       "<div>\n",
       "<style scoped>\n",
       "    .dataframe tbody tr th:only-of-type {\n",
       "        vertical-align: middle;\n",
       "    }\n",
       "\n",
       "    .dataframe tbody tr th {\n",
       "        vertical-align: top;\n",
       "    }\n",
       "\n",
       "    .dataframe thead th {\n",
       "        text-align: right;\n",
       "    }\n",
       "</style>\n",
       "<table border=\"1\" class=\"dataframe\">\n",
       "  <thead>\n",
       "    <tr style=\"text-align: right;\">\n",
       "      <th></th>\n",
       "      <th>RowNumber</th>\n",
       "      <th>CustomerId</th>\n",
       "      <th>Surname</th>\n",
       "      <th>CreditScore</th>\n",
       "      <th>Geography</th>\n",
       "      <th>Gender</th>\n",
       "      <th>Age</th>\n",
       "      <th>Tenure</th>\n",
       "      <th>Balance</th>\n",
       "      <th>NumOfProducts</th>\n",
       "      <th>HasCrCard</th>\n",
       "      <th>IsActiveMember</th>\n",
       "      <th>EstimatedSalary</th>\n",
       "      <th>Exited</th>\n",
       "    </tr>\n",
       "  </thead>\n",
       "  <tbody>\n",
       "    <tr>\n",
       "      <th>0</th>\n",
       "      <td>1</td>\n",
       "      <td>15634602</td>\n",
       "      <td>Hargrave</td>\n",
       "      <td>619</td>\n",
       "      <td>France</td>\n",
       "      <td>Female</td>\n",
       "      <td>42</td>\n",
       "      <td>2</td>\n",
       "      <td>0.00</td>\n",
       "      <td>1</td>\n",
       "      <td>1</td>\n",
       "      <td>1</td>\n",
       "      <td>101348.88</td>\n",
       "      <td>1</td>\n",
       "    </tr>\n",
       "    <tr>\n",
       "      <th>1</th>\n",
       "      <td>2</td>\n",
       "      <td>15647311</td>\n",
       "      <td>Hill</td>\n",
       "      <td>608</td>\n",
       "      <td>Spain</td>\n",
       "      <td>Female</td>\n",
       "      <td>41</td>\n",
       "      <td>1</td>\n",
       "      <td>83807.86</td>\n",
       "      <td>1</td>\n",
       "      <td>0</td>\n",
       "      <td>1</td>\n",
       "      <td>112542.58</td>\n",
       "      <td>0</td>\n",
       "    </tr>\n",
       "    <tr>\n",
       "      <th>2</th>\n",
       "      <td>3</td>\n",
       "      <td>15619304</td>\n",
       "      <td>Onio</td>\n",
       "      <td>502</td>\n",
       "      <td>France</td>\n",
       "      <td>Female</td>\n",
       "      <td>42</td>\n",
       "      <td>8</td>\n",
       "      <td>159660.80</td>\n",
       "      <td>3</td>\n",
       "      <td>1</td>\n",
       "      <td>0</td>\n",
       "      <td>113931.57</td>\n",
       "      <td>1</td>\n",
       "    </tr>\n",
       "    <tr>\n",
       "      <th>3</th>\n",
       "      <td>4</td>\n",
       "      <td>15701354</td>\n",
       "      <td>Boni</td>\n",
       "      <td>699</td>\n",
       "      <td>France</td>\n",
       "      <td>Female</td>\n",
       "      <td>39</td>\n",
       "      <td>1</td>\n",
       "      <td>0.00</td>\n",
       "      <td>2</td>\n",
       "      <td>0</td>\n",
       "      <td>0</td>\n",
       "      <td>93826.63</td>\n",
       "      <td>0</td>\n",
       "    </tr>\n",
       "    <tr>\n",
       "      <th>4</th>\n",
       "      <td>5</td>\n",
       "      <td>15737888</td>\n",
       "      <td>Mitchell</td>\n",
       "      <td>850</td>\n",
       "      <td>Spain</td>\n",
       "      <td>Female</td>\n",
       "      <td>43</td>\n",
       "      <td>2</td>\n",
       "      <td>125510.82</td>\n",
       "      <td>1</td>\n",
       "      <td>1</td>\n",
       "      <td>1</td>\n",
       "      <td>79084.10</td>\n",
       "      <td>0</td>\n",
       "    </tr>\n",
       "  </tbody>\n",
       "</table>\n",
       "</div>"
      ],
      "text/plain": [
       "   RowNumber  CustomerId   Surname  CreditScore Geography  Gender  Age  \\\n",
       "0          1    15634602  Hargrave          619    France  Female   42   \n",
       "1          2    15647311      Hill          608     Spain  Female   41   \n",
       "2          3    15619304      Onio          502    France  Female   42   \n",
       "3          4    15701354      Boni          699    France  Female   39   \n",
       "4          5    15737888  Mitchell          850     Spain  Female   43   \n",
       "\n",
       "   Tenure    Balance  NumOfProducts  HasCrCard  IsActiveMember  \\\n",
       "0       2       0.00              1          1               1   \n",
       "1       1   83807.86              1          0               1   \n",
       "2       8  159660.80              3          1               0   \n",
       "3       1       0.00              2          0               0   \n",
       "4       2  125510.82              1          1               1   \n",
       "\n",
       "   EstimatedSalary  Exited  \n",
       "0        101348.88       1  \n",
       "1        112542.58       0  \n",
       "2        113931.57       1  \n",
       "3         93826.63       0  \n",
       "4         79084.10       0  "
      ]
     },
     "execution_count": 3,
     "metadata": {},
     "output_type": "execute_result"
    }
   ],
   "source": [
    "path = '/kaggle/input/churn-modelling/Churn_Modelling.csv'\n",
    "df = pd.read_csv(path)\n",
    "df.head()"
   ]
  },
  {
   "cell_type": "code",
   "execution_count": 4,
   "id": "bb984073",
   "metadata": {
    "execution": {
     "iopub.execute_input": "2025-05-04T07:44:08.836609Z",
     "iopub.status.busy": "2025-05-04T07:44:08.836433Z",
     "iopub.status.idle": "2025-05-04T07:44:08.844362Z",
     "shell.execute_reply": "2025-05-04T07:44:08.843857Z"
    },
    "papermill": {
     "duration": 0.012899,
     "end_time": "2025-05-04T07:44:08.845380",
     "exception": false,
     "start_time": "2025-05-04T07:44:08.832481",
     "status": "completed"
    },
    "tags": []
   },
   "outputs": [
    {
     "data": {
      "text/plain": [
       "array(['France', 'Spain', 'Germany'], dtype=object)"
      ]
     },
     "execution_count": 4,
     "metadata": {},
     "output_type": "execute_result"
    }
   ],
   "source": [
    "df['Geography'].unique()"
   ]
  },
  {
   "cell_type": "code",
   "execution_count": 5,
   "id": "f21ce9cb",
   "metadata": {
    "execution": {
     "iopub.execute_input": "2025-05-04T07:44:08.853387Z",
     "iopub.status.busy": "2025-05-04T07:44:08.853187Z",
     "iopub.status.idle": "2025-05-04T07:44:08.865562Z",
     "shell.execute_reply": "2025-05-04T07:44:08.864602Z"
    },
    "papermill": {
     "duration": 0.018213,
     "end_time": "2025-05-04T07:44:08.867191",
     "exception": false,
     "start_time": "2025-05-04T07:44:08.848978",
     "status": "completed"
    },
    "tags": []
   },
   "outputs": [],
   "source": [
    "df = df.drop(columns=['RowNumber' , 'Surname'])"
   ]
  },
  {
   "cell_type": "code",
   "execution_count": 6,
   "id": "71df26d8",
   "metadata": {
    "execution": {
     "iopub.execute_input": "2025-05-04T07:44:08.878547Z",
     "iopub.status.busy": "2025-05-04T07:44:08.878080Z",
     "iopub.status.idle": "2025-05-04T07:44:08.883592Z",
     "shell.execute_reply": "2025-05-04T07:44:08.882897Z"
    },
    "papermill": {
     "duration": 0.011227,
     "end_time": "2025-05-04T07:44:08.884888",
     "exception": false,
     "start_time": "2025-05-04T07:44:08.873661",
     "status": "completed"
    },
    "tags": []
   },
   "outputs": [],
   "source": [
    "df['Gender'] = df['Gender'].map({'Male':1 , 'Female':0})"
   ]
  },
  {
   "cell_type": "code",
   "execution_count": 7,
   "id": "3424537e",
   "metadata": {
    "execution": {
     "iopub.execute_input": "2025-05-04T07:44:08.897191Z",
     "iopub.status.busy": "2025-05-04T07:44:08.896942Z",
     "iopub.status.idle": "2025-05-04T07:44:08.909954Z",
     "shell.execute_reply": "2025-05-04T07:44:08.909313Z"
    },
    "papermill": {
     "duration": 0.019498,
     "end_time": "2025-05-04T07:44:08.911172",
     "exception": false,
     "start_time": "2025-05-04T07:44:08.891674",
     "status": "completed"
    },
    "tags": []
   },
   "outputs": [],
   "source": [
    "ohe = pd.get_dummies(df, columns=['Geography'], drop_first=True, dtype=int)\n",
    "df = ohe"
   ]
  },
  {
   "cell_type": "code",
   "execution_count": 8,
   "id": "cf870723",
   "metadata": {
    "execution": {
     "iopub.execute_input": "2025-05-04T07:44:08.926378Z",
     "iopub.status.busy": "2025-05-04T07:44:08.926168Z",
     "iopub.status.idle": "2025-05-04T07:44:08.939770Z",
     "shell.execute_reply": "2025-05-04T07:44:08.939059Z"
    },
    "papermill": {
     "duration": 0.023696,
     "end_time": "2025-05-04T07:44:08.941504",
     "exception": false,
     "start_time": "2025-05-04T07:44:08.917808",
     "status": "completed"
    },
    "tags": []
   },
   "outputs": [
    {
     "data": {
      "text/html": [
       "<div>\n",
       "<style scoped>\n",
       "    .dataframe tbody tr th:only-of-type {\n",
       "        vertical-align: middle;\n",
       "    }\n",
       "\n",
       "    .dataframe tbody tr th {\n",
       "        vertical-align: top;\n",
       "    }\n",
       "\n",
       "    .dataframe thead th {\n",
       "        text-align: right;\n",
       "    }\n",
       "</style>\n",
       "<table border=\"1\" class=\"dataframe\">\n",
       "  <thead>\n",
       "    <tr style=\"text-align: right;\">\n",
       "      <th></th>\n",
       "      <th>CustomerId</th>\n",
       "      <th>CreditScore</th>\n",
       "      <th>Gender</th>\n",
       "      <th>Age</th>\n",
       "      <th>Tenure</th>\n",
       "      <th>Balance</th>\n",
       "      <th>NumOfProducts</th>\n",
       "      <th>HasCrCard</th>\n",
       "      <th>IsActiveMember</th>\n",
       "      <th>EstimatedSalary</th>\n",
       "      <th>Exited</th>\n",
       "      <th>Geography_Germany</th>\n",
       "      <th>Geography_Spain</th>\n",
       "    </tr>\n",
       "  </thead>\n",
       "  <tbody>\n",
       "    <tr>\n",
       "      <th>0</th>\n",
       "      <td>15634602</td>\n",
       "      <td>619</td>\n",
       "      <td>0</td>\n",
       "      <td>42</td>\n",
       "      <td>2</td>\n",
       "      <td>0.00</td>\n",
       "      <td>1</td>\n",
       "      <td>1</td>\n",
       "      <td>1</td>\n",
       "      <td>101348.88</td>\n",
       "      <td>1</td>\n",
       "      <td>0</td>\n",
       "      <td>0</td>\n",
       "    </tr>\n",
       "    <tr>\n",
       "      <th>1</th>\n",
       "      <td>15647311</td>\n",
       "      <td>608</td>\n",
       "      <td>0</td>\n",
       "      <td>41</td>\n",
       "      <td>1</td>\n",
       "      <td>83807.86</td>\n",
       "      <td>1</td>\n",
       "      <td>0</td>\n",
       "      <td>1</td>\n",
       "      <td>112542.58</td>\n",
       "      <td>0</td>\n",
       "      <td>0</td>\n",
       "      <td>1</td>\n",
       "    </tr>\n",
       "    <tr>\n",
       "      <th>2</th>\n",
       "      <td>15619304</td>\n",
       "      <td>502</td>\n",
       "      <td>0</td>\n",
       "      <td>42</td>\n",
       "      <td>8</td>\n",
       "      <td>159660.80</td>\n",
       "      <td>3</td>\n",
       "      <td>1</td>\n",
       "      <td>0</td>\n",
       "      <td>113931.57</td>\n",
       "      <td>1</td>\n",
       "      <td>0</td>\n",
       "      <td>0</td>\n",
       "    </tr>\n",
       "    <tr>\n",
       "      <th>3</th>\n",
       "      <td>15701354</td>\n",
       "      <td>699</td>\n",
       "      <td>0</td>\n",
       "      <td>39</td>\n",
       "      <td>1</td>\n",
       "      <td>0.00</td>\n",
       "      <td>2</td>\n",
       "      <td>0</td>\n",
       "      <td>0</td>\n",
       "      <td>93826.63</td>\n",
       "      <td>0</td>\n",
       "      <td>0</td>\n",
       "      <td>0</td>\n",
       "    </tr>\n",
       "    <tr>\n",
       "      <th>4</th>\n",
       "      <td>15737888</td>\n",
       "      <td>850</td>\n",
       "      <td>0</td>\n",
       "      <td>43</td>\n",
       "      <td>2</td>\n",
       "      <td>125510.82</td>\n",
       "      <td>1</td>\n",
       "      <td>1</td>\n",
       "      <td>1</td>\n",
       "      <td>79084.10</td>\n",
       "      <td>0</td>\n",
       "      <td>0</td>\n",
       "      <td>1</td>\n",
       "    </tr>\n",
       "  </tbody>\n",
       "</table>\n",
       "</div>"
      ],
      "text/plain": [
       "   CustomerId  CreditScore  Gender  Age  Tenure    Balance  NumOfProducts  \\\n",
       "0    15634602          619       0   42       2       0.00              1   \n",
       "1    15647311          608       0   41       1   83807.86              1   \n",
       "2    15619304          502       0   42       8  159660.80              3   \n",
       "3    15701354          699       0   39       1       0.00              2   \n",
       "4    15737888          850       0   43       2  125510.82              1   \n",
       "\n",
       "   HasCrCard  IsActiveMember  EstimatedSalary  Exited  Geography_Germany  \\\n",
       "0          1               1        101348.88       1                  0   \n",
       "1          0               1        112542.58       0                  0   \n",
       "2          1               0        113931.57       1                  0   \n",
       "3          0               0         93826.63       0                  0   \n",
       "4          1               1         79084.10       0                  0   \n",
       "\n",
       "   Geography_Spain  \n",
       "0                0  \n",
       "1                1  \n",
       "2                0  \n",
       "3                0  \n",
       "4                1  "
      ]
     },
     "execution_count": 8,
     "metadata": {},
     "output_type": "execute_result"
    }
   ],
   "source": [
    "df.head()"
   ]
  },
  {
   "cell_type": "code",
   "execution_count": 9,
   "id": "5c1b988e",
   "metadata": {
    "execution": {
     "iopub.execute_input": "2025-05-04T07:44:08.950809Z",
     "iopub.status.busy": "2025-05-04T07:44:08.950514Z",
     "iopub.status.idle": "2025-05-04T07:44:10.448454Z",
     "shell.execute_reply": "2025-05-04T07:44:10.447688Z"
    },
    "papermill": {
     "duration": 1.504008,
     "end_time": "2025-05-04T07:44:10.449712",
     "exception": false,
     "start_time": "2025-05-04T07:44:08.945704",
     "status": "completed"
    },
    "tags": []
   },
   "outputs": [
    {
     "name": "stdout",
     "output_type": "stream",
     "text": [
      "Accuracy: 0.8035\n"
     ]
    }
   ],
   "source": [
    "from sklearn.model_selection import train_test_split\n",
    "from sklearn.linear_model import LogisticRegression\n",
    "from sklearn.metrics import accuracy_score\n",
    "\n",
    "\n",
    "X = df.drop('Exited', axis=1)\n",
    "y = df['Exited']\n",
    "\n",
    "X_train, X_test, y_train, y_test = train_test_split(X, y, test_size=0.2, random_state=42)\n",
    "\n",
    "model = LogisticRegression()\n",
    "model.fit(X_train, y_train)\n",
    "\n",
    "y_pred = model.predict(X_test)\n",
    "accuracy = accuracy_score(y_test, y_pred)\n",
    "print(\"Accuracy:\", accuracy)"
   ]
  },
  {
   "cell_type": "code",
   "execution_count": 10,
   "id": "6d54608a",
   "metadata": {
    "execution": {
     "iopub.execute_input": "2025-05-04T07:44:10.466286Z",
     "iopub.status.busy": "2025-05-04T07:44:10.465912Z",
     "iopub.status.idle": "2025-05-04T07:44:23.249735Z",
     "shell.execute_reply": "2025-05-04T07:44:23.249141Z"
    },
    "papermill": {
     "duration": 12.792387,
     "end_time": "2025-05-04T07:44:23.251083",
     "exception": false,
     "start_time": "2025-05-04T07:44:10.458696",
     "status": "completed"
    },
    "tags": []
   },
   "outputs": [
    {
     "name": "stderr",
     "output_type": "stream",
     "text": [
      "2025-05-04 07:44:12.370562: E external/local_xla/xla/stream_executor/cuda/cuda_fft.cc:477] Unable to register cuFFT factory: Attempting to register factory for plugin cuFFT when one has already been registered\n",
      "WARNING: All log messages before absl::InitializeLog() is called are written to STDERR\n",
      "E0000 00:00:1746344652.577513      18 cuda_dnn.cc:8310] Unable to register cuDNN factory: Attempting to register factory for plugin cuDNN when one has already been registered\n",
      "E0000 00:00:1746344652.635395      18 cuda_blas.cc:1418] Unable to register cuBLAS factory: Attempting to register factory for plugin cuBLAS when one has already been registered\n"
     ]
    }
   ],
   "source": [
    "import tensorflow as tf"
   ]
  },
  {
   "cell_type": "code",
   "execution_count": 11,
   "id": "17024c5e",
   "metadata": {
    "execution": {
     "iopub.execute_input": "2025-05-04T07:44:23.260619Z",
     "iopub.status.busy": "2025-05-04T07:44:23.260196Z",
     "iopub.status.idle": "2025-05-04T07:44:23.331654Z",
     "shell.execute_reply": "2025-05-04T07:44:23.331037Z"
    },
    "papermill": {
     "duration": 0.077469,
     "end_time": "2025-05-04T07:44:23.332949",
     "exception": false,
     "start_time": "2025-05-04T07:44:23.255480",
     "status": "completed"
    },
    "tags": []
   },
   "outputs": [],
   "source": [
    "from tensorflow.keras.models import Sequential\n",
    "from tensorflow.keras.layers import Dense, Dropout\n",
    "from tensorflow.keras.callbacks import EarlyStopping\n",
    "from sklearn.model_selection import train_test_split\n",
    "from sklearn.preprocessing import StandardScaler\n",
    "import matplotlib.pyplot as plt"
   ]
  },
  {
   "cell_type": "code",
   "execution_count": 12,
   "id": "dfdefdec",
   "metadata": {
    "execution": {
     "iopub.execute_input": "2025-05-04T07:44:23.341569Z",
     "iopub.status.busy": "2025-05-04T07:44:23.341321Z",
     "iopub.status.idle": "2025-05-04T07:44:23.360334Z",
     "shell.execute_reply": "2025-05-04T07:44:23.359855Z"
    },
    "papermill": {
     "duration": 0.024357,
     "end_time": "2025-05-04T07:44:23.361384",
     "exception": false,
     "start_time": "2025-05-04T07:44:23.337027",
     "status": "completed"
    },
    "tags": []
   },
   "outputs": [],
   "source": [
    "scaler = StandardScaler()\n",
    "X_train = scaler.fit_transform(X_train)\n",
    "X_test = scaler.transform(X_test)"
   ]
  },
  {
   "cell_type": "code",
   "execution_count": 13,
   "id": "ef454252",
   "metadata": {
    "execution": {
     "iopub.execute_input": "2025-05-04T07:44:23.370252Z",
     "iopub.status.busy": "2025-05-04T07:44:23.369712Z",
     "iopub.status.idle": "2025-05-04T07:44:25.922777Z",
     "shell.execute_reply": "2025-05-04T07:44:25.921883Z"
    },
    "papermill": {
     "duration": 2.558766,
     "end_time": "2025-05-04T07:44:25.924263",
     "exception": false,
     "start_time": "2025-05-04T07:44:23.365497",
     "status": "completed"
    },
    "tags": []
   },
   "outputs": [
    {
     "name": "stderr",
     "output_type": "stream",
     "text": [
      "/usr/local/lib/python3.11/dist-packages/keras/src/layers/core/dense.py:87: UserWarning: Do not pass an `input_shape`/`input_dim` argument to a layer. When using Sequential models, prefer using an `Input(shape)` object as the first layer in the model instead.\n",
      "  super().__init__(activity_regularizer=activity_regularizer, **kwargs)\n",
      "I0000 00:00:1746344664.670649      18 gpu_device.cc:2022] Created device /job:localhost/replica:0/task:0/device:GPU:0 with 13942 MB memory:  -> device: 0, name: Tesla T4, pci bus id: 0000:00:04.0, compute capability: 7.5\n",
      "I0000 00:00:1746344664.671329      18 gpu_device.cc:2022] Created device /job:localhost/replica:0/task:0/device:GPU:1 with 13942 MB memory:  -> device: 1, name: Tesla T4, pci bus id: 0000:00:05.0, compute capability: 7.5\n"
     ]
    }
   ],
   "source": [
    "model = Sequential()\n",
    "model.add(Dense(128, activation='relu', input_shape=(X_train.shape[1],)))\n",
    "model.add(Dropout(0.3))\n",
    "model.add(Dense(64, activation='relu'))\n",
    "model.add(Dropout(0.3))\n",
    "model.add(Dense(1, activation='sigmoid'))"
   ]
  },
  {
   "cell_type": "code",
   "execution_count": 14,
   "id": "5d1367b6",
   "metadata": {
    "execution": {
     "iopub.execute_input": "2025-05-04T07:44:25.933499Z",
     "iopub.status.busy": "2025-05-04T07:44:25.933285Z",
     "iopub.status.idle": "2025-05-04T07:44:25.943821Z",
     "shell.execute_reply": "2025-05-04T07:44:25.943321Z"
    },
    "papermill": {
     "duration": 0.016377,
     "end_time": "2025-05-04T07:44:25.944962",
     "exception": false,
     "start_time": "2025-05-04T07:44:25.928585",
     "status": "completed"
    },
    "tags": []
   },
   "outputs": [],
   "source": [
    "model.compile(optimizer=tf.keras.optimizers.Adam(learning_rate=0.001),\n",
    "              loss='binary_crossentropy',\n",
    "              metrics=['accuracy'])"
   ]
  },
  {
   "cell_type": "code",
   "execution_count": 15,
   "id": "b7708f0c",
   "metadata": {
    "execution": {
     "iopub.execute_input": "2025-05-04T07:44:25.953461Z",
     "iopub.status.busy": "2025-05-04T07:44:25.953282Z",
     "iopub.status.idle": "2025-05-04T07:44:25.956364Z",
     "shell.execute_reply": "2025-05-04T07:44:25.955866Z"
    },
    "papermill": {
     "duration": 0.008479,
     "end_time": "2025-05-04T07:44:25.957333",
     "exception": false,
     "start_time": "2025-05-04T07:44:25.948854",
     "status": "completed"
    },
    "tags": []
   },
   "outputs": [],
   "source": [
    "early_stop = EarlyStopping(monitor='val_loss', patience=5, restore_best_weights=True)"
   ]
  },
  {
   "cell_type": "code",
   "execution_count": 16,
   "id": "a8c59dd9",
   "metadata": {
    "execution": {
     "iopub.execute_input": "2025-05-04T07:44:25.966178Z",
     "iopub.status.busy": "2025-05-04T07:44:25.966001Z",
     "iopub.status.idle": "2025-05-04T07:44:36.364620Z",
     "shell.execute_reply": "2025-05-04T07:44:36.364034Z"
    },
    "papermill": {
     "duration": 10.404488,
     "end_time": "2025-05-04T07:44:36.365952",
     "exception": false,
     "start_time": "2025-05-04T07:44:25.961464",
     "status": "completed"
    },
    "tags": []
   },
   "outputs": [
    {
     "name": "stderr",
     "output_type": "stream",
     "text": [
      "WARNING: All log messages before absl::InitializeLog() is called are written to STDERR\n",
      "I0000 00:00:1746344667.661080      62 service.cc:148] XLA service 0x7950b00050e0 initialized for platform CUDA (this does not guarantee that XLA will be used). Devices:\n",
      "I0000 00:00:1746344667.661788      62 service.cc:156]   StreamExecutor device (0): Tesla T4, Compute Capability 7.5\n",
      "I0000 00:00:1746344667.661809      62 service.cc:156]   StreamExecutor device (1): Tesla T4, Compute Capability 7.5\n",
      "I0000 00:00:1746344667.913819      62 cuda_dnn.cc:529] Loaded cuDNN version 90300\n",
      "I0000 00:00:1746344669.400035      62 device_compiler.h:188] Compiled cluster using XLA!  This line is logged at most once for the lifetime of the process.\n"
     ]
    }
   ],
   "source": [
    "history = model.fit(X_train, y_train,\n",
    "                    validation_split=0.2,\n",
    "                    epochs=100,\n",
    "                    batch_size=64,\n",
    "                    callbacks=[early_stop],\n",
    "                    verbose=0)"
   ]
  },
  {
   "cell_type": "code",
   "execution_count": 17,
   "id": "5e7201fe",
   "metadata": {
    "execution": {
     "iopub.execute_input": "2025-05-04T07:44:36.375418Z",
     "iopub.status.busy": "2025-05-04T07:44:36.375189Z",
     "iopub.status.idle": "2025-05-04T07:44:37.160564Z",
     "shell.execute_reply": "2025-05-04T07:44:37.159791Z"
    },
    "papermill": {
     "duration": 0.791308,
     "end_time": "2025-05-04T07:44:37.161715",
     "exception": false,
     "start_time": "2025-05-04T07:44:36.370407",
     "status": "completed"
    },
    "tags": []
   },
   "outputs": [
    {
     "name": "stdout",
     "output_type": "stream",
     "text": [
      "Test Accuracy: 0.8604999780654907\n"
     ]
    }
   ],
   "source": [
    "loss, accuracy = model.evaluate(X_test, y_test, verbose=0)\n",
    "print(\"Test Accuracy:\", accuracy)"
   ]
  },
  {
   "cell_type": "code",
   "execution_count": 18,
   "id": "a8eabfbc",
   "metadata": {
    "execution": {
     "iopub.execute_input": "2025-05-04T07:44:37.171562Z",
     "iopub.status.busy": "2025-05-04T07:44:37.171336Z",
     "iopub.status.idle": "2025-05-04T07:44:37.421587Z",
     "shell.execute_reply": "2025-05-04T07:44:37.420884Z"
    },
    "papermill": {
     "duration": 0.256327,
     "end_time": "2025-05-04T07:44:37.422906",
     "exception": false,
     "start_time": "2025-05-04T07:44:37.166579",
     "status": "completed"
    },
    "tags": []
   },
   "outputs": [
    {
     "data": {
      "image/png": "[encoded data removed]",
      "text/plain": [
       "<Figure size 640x480 with 1 Axes>"
      ]
     },
     "metadata": {},
     "output_type": "display_data"
    }
   ],
   "source": [
    "plt.plot(history.history['accuracy'], label='Train Accuracy')\n",
    "plt.plot(history.history['val_accuracy'], label='Val Accuracy')\n",
    "plt.xlabel('Epochs')\n",
    "plt.ylabel('Accuracy')\n",
    "plt.title('Model Accuracy Over Epochs')\n",
    "plt.legend()\n",
    "plt.grid(True)\n",
    "plt.show()"
   ]
  },
  {
   "cell_type": "code",
   "execution_count": 19,
   "id": "a6b84522",
   "metadata": {
    "execution": {
     "iopub.execute_input": "2025-05-04T07:44:37.433739Z",
     "iopub.status.busy": "2025-05-04T07:44:37.433496Z",
     "iopub.status.idle": "2025-05-04T07:44:37.486751Z",
     "shell.execute_reply": "2025-05-04T07:44:37.486258Z"
    },
    "papermill": {
     "duration": 0.059742,
     "end_time": "2025-05-04T07:44:37.487775",
     "exception": false,
     "start_time": "2025-05-04T07:44:37.428033",
     "status": "completed"
    },
    "tags": []
   },
   "outputs": [],
   "source": [
    "model = Sequential()\n",
    "model.add(Dense(256, activation='relu', input_shape=(X_train.shape[1],)))\n",
    "model.add(Dropout(0.3))\n",
    "model.add(Dense(128, activation='relu'))\n",
    "model.add(Dropout(0.3))\n",
    "model.add(Dense(64, activation='relu'))\n",
    "model.add(Dropout(0.3))\n",
    "model.add(Dense(1, activation='sigmoid'))"
   ]
  },
  {
   "cell_type": "code",
   "execution_count": 20,
   "id": "0a06cb44",
   "metadata": {
    "execution": {
     "iopub.execute_input": "2025-05-04T07:44:37.498074Z",
     "iopub.status.busy": "2025-05-04T07:44:37.497813Z",
     "iopub.status.idle": "2025-05-04T07:44:37.504805Z",
     "shell.execute_reply": "2025-05-04T07:44:37.504314Z"
    },
    "papermill": {
     "duration": 0.013191,
     "end_time": "2025-05-04T07:44:37.505824",
     "exception": false,
     "start_time": "2025-05-04T07:44:37.492633",
     "status": "completed"
    },
    "tags": []
   },
   "outputs": [],
   "source": [
    "model.compile(optimizer=tf.keras.optimizers.Adam(learning_rate=0.005),\n",
    "              loss='binary_crossentropy',\n",
    "              metrics=['accuracy'])"
   ]
  },
  {
   "cell_type": "code",
   "execution_count": 21,
   "id": "158f04e3",
   "metadata": {
    "execution": {
     "iopub.execute_input": "2025-05-04T07:44:37.515734Z",
     "iopub.status.busy": "2025-05-04T07:44:37.515536Z",
     "iopub.status.idle": "2025-05-04T07:44:45.862006Z",
     "shell.execute_reply": "2025-05-04T07:44:45.861307Z"
    },
    "papermill": {
     "duration": 8.353066,
     "end_time": "2025-05-04T07:44:45.863441",
     "exception": false,
     "start_time": "2025-05-04T07:44:37.510375",
     "status": "completed"
    },
    "tags": []
   },
   "outputs": [],
   "source": [
    "early_stop = EarlyStopping(monitor='val_loss', patience=5, restore_best_weights=True)\n",
    "\n",
    "history = model.fit(X_train, y_train,\n",
    "                    validation_split=0.2,\n",
    "                    epochs=100,\n",
    "                    batch_size=32,\n",
    "                    callbacks=[early_stop],\n",
    "                    verbose=0)"
   ]
  },
  {
   "cell_type": "code",
   "execution_count": 22,
   "id": "c9e8ab67",
   "metadata": {
    "execution": {
     "iopub.execute_input": "2025-05-04T07:44:45.875581Z",
     "iopub.status.busy": "2025-05-04T07:44:45.875360Z",
     "iopub.status.idle": "2025-05-04T07:44:46.542360Z",
     "shell.execute_reply": "2025-05-04T07:44:46.541628Z"
    },
    "papermill": {
     "duration": 0.674258,
     "end_time": "2025-05-04T07:44:46.543665",
     "exception": false,
     "start_time": "2025-05-04T07:44:45.869407",
     "status": "completed"
    },
    "tags": []
   },
   "outputs": [
    {
     "name": "stdout",
     "output_type": "stream",
     "text": [
      "Improved Test Accuracy: 0.8565000295639038\n"
     ]
    }
   ],
   "source": [
    "loss, accuracy = model.evaluate(X_test, y_test, verbose=0)\n",
    "print(\"Improved Test Accuracy:\", accuracy)"
   ]
  },
  {
   "cell_type": "code",
   "execution_count": 23,
   "id": "247ee125",
   "metadata": {
    "execution": {
     "iopub.execute_input": "2025-05-04T07:44:46.555220Z",
     "iopub.status.busy": "2025-05-04T07:44:46.554480Z",
     "iopub.status.idle": "2025-05-04T07:44:46.732002Z",
     "shell.execute_reply": "2025-05-04T07:44:46.731344Z"
    },
    "papermill": {
     "duration": 0.184233,
     "end_time": "2025-05-04T07:44:46.733121",
     "exception": false,
     "start_time": "2025-05-04T07:44:46.548888",
     "status": "completed"
    },
    "tags": []
   },
   "outputs": [
    {
     "data": {
      "image/png": "[encoded data removed]",
      "text/plain": [
       "<Figure size 640x480 with 1 Axes>"
      ]
     },
     "metadata": {},
     "output_type": "display_data"
    }
   ],
   "source": [
    "plt.plot(history.history['accuracy'], label='Train Accuracy')\n",
    "plt.plot(history.history['val_accuracy'], label='Val Accuracy')\n",
    "plt.xlabel('Epochs')\n",
    "plt.ylabel('Accuracy')\n",
    "plt.title('Improved Model Accuracy Over Epochs')\n",
    "plt.legend()\n",
    "plt.grid(True)\n",
    "plt.show()"
   ]
  },
  {
   "cell_type": "code",
   "execution_count": 24,
   "id": "8d0356a4",
   "metadata": {
    "execution": {
     "iopub.execute_input": "2025-05-04T07:44:46.745992Z",
     "iopub.status.busy": "2025-05-04T07:44:46.745740Z",
     "iopub.status.idle": "2025-05-04T07:44:47.103800Z",
     "shell.execute_reply": "2025-05-04T07:44:47.103067Z"
    },
    "papermill": {
     "duration": 0.365905,
     "end_time": "2025-05-04T07:44:47.105357",
     "exception": false,
     "start_time": "2025-05-04T07:44:46.739452",
     "status": "completed"
    },
    "tags": []
   },
   "outputs": [
    {
     "data": {
      "image/png": "[encoded data removed]",
      "text/plain": [
       "<Figure size 1200x500 with 2 Axes>"
      ]
     },
     "metadata": {},
     "output_type": "display_data"
    }
   ],
   "source": [
    "plt.figure(figsize=(12, 5))\n",
    "\n",
    "plt.subplot(1, 2, 1)\n",
    "plt.plot(history.history['accuracy'], label='Train Accuracy')\n",
    "plt.plot(history.history['val_accuracy'], label='Val Accuracy')\n",
    "plt.title('Accuracy Comparison')\n",
    "plt.xlabel('Epochs')\n",
    "plt.ylabel('Accuracy')\n",
    "plt.legend()\n",
    "plt.grid(True)\n",
    "\n",
    "plt.subplot(1, 2, 2)\n",
    "plt.plot(history.history['loss'], label='Train Loss')\n",
    "plt.plot(history.history['val_loss'], label='Val Loss')\n",
    "plt.title('Loss Comparison')\n",
    "plt.xlabel('Epochs')\n",
    "plt.ylabel('Loss')\n",
    "plt.legend()\n",
    "plt.grid(True)\n",
    "\n",
    "plt.tight_layout()\n",
    "plt.show()\n"
   ]
  }
 ],
 "metadata": {
  "kaggle": {
   "accelerator": "nvidiaTeslaT4",
   "dataSources": [
    {
     "datasetId": 156197,
     "sourceId": 358170,
     "sourceType": "datasetVersion"
    }
   ],
   "dockerImageVersionId": 31011,
   "isGpuEnabled": true,
   "isInternetEnabled": true,
   "language": "python",
   "sourceType": "notebook"
  },
  "kernelspec": {
   "display_name": "Python 3",
   "language": "python",
   "name": "python3"
  },
  "language_info": {
   "codemirror_mode": {
    "name": "ipython",
    "version": 3
   },
   "file_extension": ".py",
   "mimetype": "text/x-python",
   "name": "python",
   "nbconvert_exporter": "python",
   "pygments_lexer": "ipython3",
   "version": "3.11.11"
  },
  "papermill": {
   "default_parameters": {},
   "duration": 47.299531,
   "end_time": "2025-05-04T07:44:50.451268",
   "environment_variables": {},
   "exception": null,
   "input_path": "__notebook__.ipynb",
   "output_path": "__notebook__.ipynb",
   "parameters": {},
   "start_time": "2025-05-04T07:44:03.151737",
   "version": "2.6.0"
  }
 },
 "nbformat": 4,
 "nbformat_minor": 5
}
